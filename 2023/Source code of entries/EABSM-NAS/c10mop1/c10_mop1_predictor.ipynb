{
 "cells": [
  {
   "attachments": {},
   "cell_type": "markdown",
   "metadata": {},
   "source": [
    "# Import libraries"
   ]
  },
  {
   "cell_type": "code",
   "execution_count": 1,
   "metadata": {},
   "outputs": [
    {
     "name": "stdout",
     "output_type": "stream",
     "text": [
      "Auto Configuration Succeed!, Using database /home/wcx/gitProject/evoxbench/database/database.\n",
      "Auto Configuration Succeed!, Using database /home/wcx/gitProject/evoxbench/database/database.\n",
      "['/home/wcx/gitProject/evoxbench/evoxbench_submit/pymoo060', '/home/wcx/gitProject/evoxbench/evoxbench_submit', '/sdb_new/gitProject/evoxbench/evoxbench_submit/c10mop1', '/home/wcx/anaconda3/envs/evoxbench/lib/python38.zip', '/home/wcx/anaconda3/envs/evoxbench/lib/python3.8', '/home/wcx/anaconda3/envs/evoxbench/lib/python3.8/lib-dynload', '', '/home/wcx/.local/lib/python3.8/site-packages', '/home/wcx/anaconda3/envs/evoxbench/lib/python3.8/site-packages', '/home/wcx/gitProject/evoxbench/database/database', '/home/wcx/gitProject/evoxbench/database/database']\n"
     ]
    }
   ],
   "source": [
    "import os\n",
    "os.chdir('/home/wcx/gitProject/evoxbench/evoxbench_submit/c10mop1/')\n",
    "\n",
    "import h5py\n",
    "import pickle\n",
    "import random\n",
    "import numpy as np\n",
    "import seaborn as sns\n",
    "import pandas as pd\n",
    "import matplotlib.pyplot as plt\n",
    "from easydict import EasyDict as edict\n",
    "from benchmark_c10_mop1 import C10MOPProblem, c10mop"
   ]
  },
  {
   "cell_type": "code",
   "execution_count": 3,
   "metadata": {},
   "outputs": [],
   "source": [
    "args = edict()\n",
    "args.run = 2\n",
    "args.seed = args.run\n",
    "args.pid = 1"
   ]
  },
  {
   "cell_type": "code",
   "execution_count": 3,
   "metadata": {},
   "outputs": [],
   "source": [
    "# set seed\n",
    "random.seed(args.seed)\n",
    "np.random.seed(args.seed)"
   ]
  },
  {
   "cell_type": "code",
   "execution_count": 4,
   "metadata": {},
   "outputs": [],
   "source": [
    "benchmark = c10mop(args.pid)\n",
    "problem = C10MOPProblem(benchmark, args.pid)"
   ]
  },
  {
   "attachments": {},
   "cell_type": "markdown",
   "metadata": {},
   "source": [
    "# Divide the dataset"
   ]
  },
  {
   "cell_type": "code",
   "execution_count": 5,
   "metadata": {},
   "outputs": [],
   "source": [
    "d = './traindata/'\n",
    "obj_d = d + 'c10mop1_train_data_200000_{:02d}.pkl'.format(args.run)\n",
    "if not os.path.exists(obj_d):\n",
    "    print('generating data')\n",
    "    search_space = benchmark.search_space\n",
    "    evaluator = benchmark.evaluator\n",
    "    archs = np.array(search_space.sample(200000))\n",
    "    X = search_space.encode(archs)\n",
    "    # about 17000 valid archs in 200000 archs\n",
    "    fine_idx = problem._get_fine_x(X)\n",
    "    X, archs = X[fine_idx], archs[fine_idx]\n",
    "    y = evaluator.evaluate(archs, true_eval=True)\n",
    "    pickle.dump((X, y), open(obj_d, 'wb')) \n",
    "else:\n",
    "    X, y = pickle.load(open(obj_d, 'rb'))"
   ]
  },
  {
   "cell_type": "code",
   "execution_count": 6,
   "metadata": {},
   "outputs": [
    {
     "name": "stdout",
     "output_type": "stream",
     "text": [
      "17384\n"
     ]
    }
   ],
   "source": [
    "print(len(X))"
   ]
  },
  {
   "cell_type": "code",
   "execution_count": 7,
   "metadata": {},
   "outputs": [
    {
     "data": {
      "text/plain": [
       "<AxesSubplot: ylabel='Count'>"
      ]
     },
     "execution_count": 7,
     "metadata": {},
     "output_type": "execute_result"
    },
    {
     "data": {
      "image/png": "[encoded data removed]",
      "text/plain": [
       "<Figure size 640x480 with 1 Axes>"
      ]
     },
     "metadata": {},
     "output_type": "display_data"
    }
   ],
   "source": [
    "sns.histplot([i['err'] for i in y])"
   ]
  },
  {
   "attachments": {},
   "cell_type": "markdown",
   "metadata": {},
   "source": [
    "# Train the accuracy model"
   ]
  },
  {
   "cell_type": "code",
   "execution_count": 8,
   "metadata": {},
   "outputs": [],
   "source": [
    "def aux_acc(train_x, train_y):\n",
    "    from sklearn.model_selection import KFold\n",
    "    from sklearn.metrics import mean_absolute_error, mean_squared_error\n",
    "    from catboost import CatBoostRegressor, Pool\n",
    "    \n",
    "    kfold = KFold(n_splits=5, shuffle=True, random_state=2023)\n",
    "\n",
    "    models, errs = [], []\n",
    "    X, y = train_x, train_y\n",
    "    for train_idx, test_idx in kfold.split(X, y):\n",
    "        # robust parameters\n",
    "        model = CatBoostRegressor(iterations=10000, learning_rate=0.1, depth=6, random_seed=2023,\n",
    "                                loss_function='RMSE', verbose=True, early_stopping_rounds=1000)\n",
    "        X_train, X_test = X[train_idx], X[test_idx]\n",
    "        y_train, y_test = y[train_idx], y[test_idx]\n",
    "        model.fit(X_train, y_train, eval_set=Pool(X_test, y_test), use_best_model=True, verbose=500)\n",
    "        \n",
    "        y_pred = model.predict(X_test)\n",
    "        models.append(model)\n",
    "        \n",
    "        err = mean_squared_error(y_test, y_pred)\n",
    "        errs.append(err)\n",
    "\n",
    "    return models, errs"
   ]
  },
  {
   "cell_type": "code",
   "execution_count": 9,
   "metadata": {},
   "outputs": [
    {
     "name": "stdout",
     "output_type": "stream",
     "text": [
      "train data shape:  (5000, 26) \n",
      "test data shape:  (12384, 26)\n",
      "0:\tlearn: 0.0381783\ttest: 0.0337034\tbest: 0.0337034 (0)\ttotal: 51.4ms\tremaining: 8m 33s\n",
      "500:\tlearn: 0.0148966\ttest: 0.0277939\tbest: 0.0271372 (215)\ttotal: 986ms\tremaining: 18.7s\n",
      "1000:\tlearn: 0.0087352\ttest: 0.0285399\tbest: 0.0271372 (215)\ttotal: 1.88s\tremaining: 16.9s\n",
      "Stopped by overfitting detector  (1000 iterations wait)\n",
      "\n",
      "bestTest = 0.02713724785\n",
      "bestIteration = 215\n",
      "\n",
      "Shrink model to first 216 iterations.\n",
      "0:\tlearn: 0.0379332\ttest: 0.0349286\tbest: 0.0349286 (0)\ttotal: 2.98ms\tremaining: 29.8s\n",
      "500:\tlearn: 0.0139605\ttest: 0.0309018\tbest: 0.0287197 (87)\ttotal: 900ms\tremaining: 17.1s\n",
      "1000:\tlearn: 0.0080685\ttest: 0.0318354\tbest: 0.0287197 (87)\ttotal: 1.8s\tremaining: 16.2s\n",
      "Stopped by overfitting detector  (1000 iterations wait)\n",
      "\n",
      "bestTest = 0.02871965358\n",
      "bestIteration = 87\n",
      "\n",
      "Shrink model to first 88 iterations.\n",
      "0:\tlearn: 0.0366410\ttest: 0.0400761\tbest: 0.0400761 (0)\ttotal: 4.01ms\tremaining: 40.1s\n",
      "500:\tlearn: 0.0141184\ttest: 0.0338015\tbest: 0.0334291 (344)\ttotal: 899ms\tremaining: 17s\n",
      "1000:\tlearn: 0.0083232\ttest: 0.0344202\tbest: 0.0334291 (344)\ttotal: 1.79s\tremaining: 16.1s\n",
      "Stopped by overfitting detector  (1000 iterations wait)\n",
      "\n",
      "bestTest = 0.0334290501\n",
      "bestIteration = 344\n",
      "\n",
      "Shrink model to first 345 iterations.\n",
      "0:\tlearn: 0.0372289\ttest: 0.0378827\tbest: 0.0378827 (0)\ttotal: 3.1ms\tremaining: 31s\n",
      "500:\tlearn: 0.0142677\ttest: 0.0329311\tbest: 0.0313455 (76)\ttotal: 923ms\tremaining: 17.5s\n",
      "1000:\tlearn: 0.0084813\ttest: 0.0336078\tbest: 0.0313455 (76)\ttotal: 1.83s\tremaining: 16.5s\n",
      "Stopped by overfitting detector  (1000 iterations wait)\n",
      "\n",
      "bestTest = 0.03134551019\n",
      "bestIteration = 76\n",
      "\n",
      "Shrink model to first 77 iterations.\n",
      "0:\tlearn: 0.0367442\ttest: 0.0397700\tbest: 0.0397700 (0)\ttotal: 3.15ms\tremaining: 31.5s\n",
      "500:\tlearn: 0.0138605\ttest: 0.0328115\tbest: 0.0318658 (180)\ttotal: 897ms\tremaining: 17s\n",
      "1000:\tlearn: 0.0080336\ttest: 0.0335010\tbest: 0.0318658 (180)\ttotal: 1.79s\tremaining: 16.1s\n",
      "Stopped by overfitting detector  (1000 iterations wait)\n",
      "\n",
      "bestTest = 0.03186579049\n",
      "bestIteration = 180\n",
      "\n",
      "Shrink model to first 181 iterations.\n"
     ]
    }
   ],
   "source": [
    "# trainset and testset\n",
    "## testset is not used, using 5-fold cross validation to evaluate the model\n",
    "train_len = 5000\n",
    "train_x, train_y = X[:train_len], y[:train_len]\n",
    "test_x, test_y = X[train_len:], y[train_len:]\n",
    "print('train data shape: ', train_x.shape, '\\ntest data shape: ', test_x.shape)\n",
    "\n",
    "trn_x = train_x\n",
    "trn_y = np.array([i['err'] for i in train_y])\n",
    "tst_x = test_x\n",
    "tst_y = np.array([i['err'] for i in test_y])\n",
    "err_models, mse_errs = aux_acc(trn_x, trn_y)"
   ]
  },
  {
   "cell_type": "code",
   "execution_count": 10,
   "metadata": {},
   "outputs": [
    {
     "name": "stdout",
     "output_type": "stream",
     "text": [
      "mse_err:  0.0013376035320421483 \n",
      "mae_err:  0.012980215994212372\n"
     ]
    }
   ],
   "source": [
    "# evaluate the model in testset \n",
    "## testset is not used to optimize the hyperparameters, using 5-fold cross validation to evaluate the model\n",
    "from sklearn.metrics import mean_absolute_error, mean_squared_error\n",
    "pred_y_list = []\n",
    "for model in err_models:\n",
    "    pred_y = model.predict(test_x)\n",
    "    pred_y_list.append(pred_y)\n",
    "pred_y = np.array(pred_y_list).mean(axis=0)\n",
    "mse_err = mean_squared_error(tst_y, pred_y)\n",
    "mae_err = mean_absolute_error(tst_y, pred_y)\n",
    "print('mse_err: ', mse_err, '\\nmae_err: ', mae_err)"
   ]
  },
  {
   "cell_type": "code",
   "execution_count": 11,
   "metadata": {},
   "outputs": [
    {
     "data": {
      "text/plain": [
       "(0.0, 35.0)"
      ]
     },
     "execution_count": 11,
     "metadata": {},
     "output_type": "execute_result"
    },
    {
     "data": {
      "image/png": "[encoded data removed]",
      "text/plain": [
       "<Figure size 640x480 with 1 Axes>"
      ]
     },
     "metadata": {},
     "output_type": "display_data"
    }
   ],
   "source": [
    "comp = pd.DataFrame({'pred': pred_y, 'true': tst_y})\n",
    "plt.scatter(comp['pred']*100, comp['true']*100)\n",
    "plt.xlim(0, 35)\n",
    "plt.ylim(0, 35)"
   ]
  },
  {
   "cell_type": "code",
   "execution_count": 12,
   "metadata": {},
   "outputs": [],
   "source": [
    "# function to get the predicted error\n",
    "def get_pred_err(X):\n",
    "    pred_y_list = []\n",
    "    for model in err_models:\n",
    "        pred_y = model.predict(X)\n",
    "        pred_y_list.append(pred_y)\n",
    "    return np.array(pred_y_list).mean(axis=0)"
   ]
  },
  {
   "cell_type": "code",
   "execution_count": 13,
   "metadata": {},
   "outputs": [
    {
     "data": {
      "text/plain": [
       "array([0.07534139, 0.07392092, 0.09695672, 0.07746577, 0.11598435,\n",
       "       0.08316099, 0.09990292, 0.08861711, 0.07747449, 0.10134984])"
      ]
     },
     "execution_count": 13,
     "metadata": {},
     "output_type": "execute_result"
    }
   ],
   "source": [
    "get_pred_err(test_x[:10])"
   ]
  },
  {
   "attachments": {},
   "cell_type": "markdown",
   "metadata": {},
   "source": [
    "# Get the params and flops\n",
    "\n",
    "In fact, in neural architecture search problems, the number of parameters and flops is not an expensive task and can be obtained directly."
   ]
  },
  {
   "cell_type": "code",
   "execution_count": 14,
   "metadata": {},
   "outputs": [],
   "source": [
    "# ignore this cell\n",
    "## Nevertheless, the model is better because the \\\n",
    "## number of model parameters is evenly distributed than the accuracy\n",
    "\n",
    "# def aux_flops(train_x, train_y):\n",
    "def aux_params(train_x, train_y):\n",
    "    import numpy as np\n",
    "    from sklearn.model_selection import KFold\n",
    "    from sklearn.metrics import mean_absolute_error, mean_squared_error\n",
    "    from catboost import CatBoostRegressor, Pool\n",
    "    \n",
    "    kfold = KFold(n_splits=5, shuffle=True, random_state=2023)\n",
    "\n",
    "    models, errs = [], []\n",
    "    X, y = train_x, train_y\n",
    "    for train_idx, test_idx in kfold.split(X, y):\n",
    "        model = CatBoostRegressor(iterations=10000, learning_rate=0.1, depth=6, random_seed=2023,\n",
    "                                loss_function='RMSE', verbose=True, early_stopping_rounds=1000)\n",
    "        X_train, X_test = X[train_idx], X[test_idx]\n",
    "        y_train, y_test = y[train_idx], y[test_idx]\n",
    "        model.fit(X_train, y_train, eval_set=Pool(X_test, y_test), use_best_model=True, verbose=500)\n",
    "        \n",
    "        y_pred = model.predict(X_test)\n",
    "        models.append(model)\n",
    "        \n",
    "        err = mean_squared_error(y_test, y_pred)\n",
    "        errs.append(err)\n",
    "\n",
    "    return models, errs"
   ]
  },
  {
   "cell_type": "code",
   "execution_count": 15,
   "metadata": {},
   "outputs": [],
   "source": [
    "# obtain the objectives values on params and flops\n",
    "utopian = benchmark.utopian_point\n",
    "nadir = benchmark.nadir_point\n",
    "def get_pred_params_direct(X):\n",
    "    return benchmark.evaluate(X)[:, 1]* (nadir[1] - utopian[1]) + utopian[1]\n",
    "def get_pred_flops_direct(X):\n",
    "    return benchmark.evaluate(X)[:, 2]* (nadir[2] - utopian[2]) + utopian[2]"
   ]
  },
  {
   "cell_type": "code",
   "execution_count": 16,
   "metadata": {},
   "outputs": [
    {
     "data": {
      "text/plain": [
       "array([ 5793546., 21220234., 14000266.,  6230410.,  1700385., 14000266.,\n",
       "        4863626.,  2943654., 13836426.,  4166026.])"
      ]
     },
     "execution_count": 16,
     "metadata": {},
     "output_type": "execute_result"
    }
   ],
   "source": [
    "real_param = get_pred_params_direct(test_x[:10])\n",
    "real_param"
   ]
  },
  {
   "attachments": {},
   "cell_type": "markdown",
   "metadata": {},
   "source": [
    "# A binary classifier to filter good architectures"
   ]
  },
  {
   "cell_type": "code",
   "execution_count": 17,
   "metadata": {},
   "outputs": [
    {
     "name": "stdout",
     "output_type": "stream",
     "text": [
      "train data shape:  (5000, 26) \n",
      "test data shape:  (12384, 26)\n"
     ]
    }
   ],
   "source": [
    "train_x, train_y = X[:train_len], y[:train_len]\n",
    "test_x, test_y = X[train_len:], y[train_len:]\n",
    "print('train data shape: ', train_x.shape, '\\ntest data shape: ', test_x.shape)\n",
    "\n",
    "# prediction accuracy greater or less than 91%\n",
    "trn_x = train_x\n",
    "trn_y = np.array([i['err'] for i in train_y])\n",
    "trn_y = np.array([1 if i <= 0.09 else 0 for i in trn_y])\n",
    "tst_x = test_x\n",
    "tst_y = np.array([i['err'] for i in test_y])\n",
    "tst_y = np.array([1 if i <=0.09 else 0 for i in tst_y])"
   ]
  },
  {
   "cell_type": "code",
   "execution_count": 18,
   "metadata": {},
   "outputs": [],
   "source": [
    "# train binary CatBoostClassifier\n",
    "def aux(train_x, train_y):\n",
    "    from sklearn.model_selection import KFold\n",
    "    from sklearn.metrics import mean_absolute_error, mean_squared_error\n",
    "    from catboost import CatBoostRegressor, Pool, CatBoostClassifier\n",
    "    \n",
    "    kfold = KFold(n_splits=5, shuffle=True, random_state=2023)\n",
    "\n",
    "    models, accs = [], []\n",
    "    X, y = train_x, train_y\n",
    "    for train_idx, test_idx in kfold.split(X, y):\n",
    "        model = CatBoostClassifier(iterations=10000, learning_rate=0.1, depth=6, random_seed=2023,\n",
    "                                    early_stopping_rounds=500, loss_function='Logloss')\n",
    "        X_train, X_test = X[train_idx], X[test_idx]\n",
    "        y_train, y_test = y[train_idx], y[test_idx]\n",
    "        model.fit(X_train, y_train, eval_set=Pool(X_test, y_test), use_best_model=True, verbose=500)\n",
    "        \n",
    "        y_pred = model.predict(X_test)\n",
    "        models.append(model)\n",
    "        accs.append((y_pred == y_test).mean())\n",
    "\n",
    "    return models, accs"
   ]
  },
  {
   "cell_type": "code",
   "execution_count": 19,
   "metadata": {},
   "outputs": [
    {
     "name": "stdout",
     "output_type": "stream",
     "text": [
      "0:\tlearn: 0.6288240\ttest: 0.6325114\tbest: 0.6325114 (0)\ttotal: 4.98ms\tremaining: 49.8s\n",
      "500:\tlearn: 0.0309594\ttest: 0.2845988\tbest: 0.2768408 (306)\ttotal: 1.41s\tremaining: 26.7s\n",
      "Stopped by overfitting detector  (500 iterations wait)\n",
      "\n",
      "bestTest = 0.276840756\n",
      "bestIteration = 306\n",
      "\n",
      "Shrink model to first 307 iterations.\n",
      "0:\tlearn: 0.6231335\ttest: 0.6283376\tbest: 0.6283376 (0)\ttotal: 4.12ms\tremaining: 41.2s\n",
      "500:\tlearn: 0.0302722\ttest: 0.2737765\tbest: 0.2669083 (342)\ttotal: 1.4s\tremaining: 26.6s\n",
      "Stopped by overfitting detector  (500 iterations wait)\n",
      "\n",
      "bestTest = 0.2669083136\n",
      "bestIteration = 342\n",
      "\n",
      "Shrink model to first 343 iterations.\n",
      "0:\tlearn: 0.6246431\ttest: 0.6248960\tbest: 0.6248960 (0)\ttotal: 4.7ms\tremaining: 47s\n",
      "500:\tlearn: 0.0303148\ttest: 0.2850805\tbest: 0.2740014 (334)\ttotal: 1.42s\tremaining: 26.9s\n",
      "Stopped by overfitting detector  (500 iterations wait)\n",
      "\n",
      "bestTest = 0.2740014113\n",
      "bestIteration = 334\n",
      "\n",
      "Shrink model to first 335 iterations.\n",
      "0:\tlearn: 0.6238164\ttest: 0.6282048\tbest: 0.6282048 (0)\ttotal: 4.56ms\tremaining: 45.6s\n",
      "500:\tlearn: 0.0304609\ttest: 0.2776823\tbest: 0.2693082 (322)\ttotal: 1.41s\tremaining: 26.7s\n",
      "Stopped by overfitting detector  (500 iterations wait)\n",
      "\n",
      "bestTest = 0.269308177\n",
      "bestIteration = 322\n",
      "\n",
      "Shrink model to first 323 iterations.\n",
      "0:\tlearn: 0.6251515\ttest: 0.6228014\tbest: 0.6228014 (0)\ttotal: 4.42ms\tremaining: 44.3s\n",
      "500:\tlearn: 0.0320889\ttest: 0.2688421\tbest: 0.2619234 (367)\ttotal: 1.43s\tremaining: 27.1s\n",
      "Stopped by overfitting detector  (500 iterations wait)\n",
      "\n",
      "bestTest = 0.2619233788\n",
      "bestIteration = 367\n",
      "\n",
      "Shrink model to first 368 iterations.\n"
     ]
    }
   ],
   "source": [
    "pd_91_models, accs = aux(trn_x, trn_y)"
   ]
  },
  {
   "cell_type": "code",
   "execution_count": 20,
   "metadata": {},
   "outputs": [
    {
     "data": {
      "text/plain": [
       "[0.874, 0.873, 0.883, 0.892, 0.895]"
      ]
     },
     "execution_count": 20,
     "metadata": {},
     "output_type": "execute_result"
    }
   ],
   "source": [
    "accs # about 90% "
   ]
  },
  {
   "cell_type": "code",
   "execution_count": 21,
   "metadata": {},
   "outputs": [],
   "source": [
    "# function to get the predicted category\n",
    "def pd_X_more_than_91(X):\n",
    "    pred_y_list = []\n",
    "    for model in pd_91_models:\n",
    "        pred_y = model.predict(X)\n",
    "        pred_y_list.append(pred_y)\n",
    "    return np.around(np.array(pred_y_list).mean(axis=0))"
   ]
  },
  {
   "cell_type": "code",
   "execution_count": 22,
   "metadata": {},
   "outputs": [
    {
     "data": {
      "text/plain": [
       "array([0., 0., 0., 0., 0., 0., 0., 1., 0., 0.])"
      ]
     },
     "execution_count": 22,
     "metadata": {},
     "output_type": "execute_result"
    }
   ],
   "source": [
    "pd_X_more_than_91(train_x[:10])"
   ]
  },
  {
   "attachments": {},
   "cell_type": "markdown",
   "metadata": {},
   "source": [
    "# Combine models to predict the performance"
   ]
  },
  {
   "cell_type": "code",
   "execution_count": 23,
   "metadata": {},
   "outputs": [],
   "source": [
    "pd_X = pd_X_more_than_91(test_x)\n",
    "filter_x = test_x[pd_X == 1]\n",
    "filter_y = np.array(test_y)[pd_X == 1]\n",
    "y_err = np.array([i['err'] for i in filter_y])"
   ]
  },
  {
   "cell_type": "code",
   "execution_count": 24,
   "metadata": {},
   "outputs": [
    {
     "name": "stdout",
     "output_type": "stream",
     "text": [
      "mse_err:  0.0001272292488564501 \n",
      "mae_err:  0.008091884952317416\n"
     ]
    }
   ],
   "source": [
    "pred_y = get_pred_err(filter_x)\n",
    "mse_err = mean_squared_error(y_err, pred_y)\n",
    "mae_err = mean_absolute_error(y_err, pred_y)\n",
    "print('mse_err: ', mse_err, '\\nmae_err: ', mae_err)"
   ]
  },
  {
   "cell_type": "code",
   "execution_count": 25,
   "metadata": {},
   "outputs": [],
   "source": [
    "# get acc for only one arch\n",
    "def get_end_acc(X):\n",
    "    pd = pd_X_more_than_91(X)\n",
    "    if pd == 1:\n",
    "        return 1-get_pred_err(X)\n",
    "    else:\n",
    "        return None"
   ]
  },
  {
   "cell_type": "code",
   "execution_count": 26,
   "metadata": {},
   "outputs": [
    {
     "name": "stdout",
     "output_type": "stream",
     "text": [
      "None\n"
     ]
    }
   ],
   "source": [
    "print(get_end_acc(train_x[0]))"
   ]
  },
  {
   "attachments": {},
   "cell_type": "markdown",
   "metadata": {},
   "source": [
    "final performance using two predictors\n",
    "\n",
    "mse_err:  0.0001186062031939344 \n",
    "\n",
    "mae_err:  0.007592596438031209"
   ]
  },
  {
   "attachments": {},
   "cell_type": "markdown",
   "metadata": {},
   "source": [
    "# local search for entire search space"
   ]
  },
  {
   "cell_type": "code",
   "execution_count": 27,
   "metadata": {},
   "outputs": [],
   "source": [
    "# load all arch representations in nasbench101, ref https://github.com/ultmaster/neuralpredictor.pytorch\n",
    "nasbench_d = './'\n",
    "with h5py.File(nasbench_d+\"nasbench.hdf5\", mode=\"r\") as f:\n",
    "    total_count = len(f[\"hash\"][()])\n",
    "    operations = f[\"operations\"][()]\n",
    "    trainable_parameters = f[\"trainable_parameters\"][()]\n",
    "    metrics = f[\"metrics\"][()]\n",
    "    adjacency = f[\"adjacency\"][()]\n",
    "    hash = f[\"hash\"][()]\n",
    "hashs = [h.decode() for h in hash]"
   ]
  },
  {
   "cell_type": "code",
   "execution_count": 28,
   "metadata": {},
   "outputs": [],
   "source": [
    "def get_real_arch_info(hash):\n",
    "    idx = hashs.index(hash)\n",
    "    return operations[idx], trainable_parameters[idx], metrics[idx], adjacency[idx]"
   ]
  },
  {
   "attachments": {},
   "cell_type": "markdown",
   "metadata": {},
   "source": [
    "## Combine the existing archs"
   ]
  },
  {
   "cell_type": "code",
   "execution_count": 29,
   "metadata": {},
   "outputs": [],
   "source": [
    "# read the existing archs in evolutionary algorithm\n",
    "d = './exist_pops/'\n",
    "h_f = pickle.load(open(d+'hashs_fitness_{:02d}.pkl'.format(args.run), 'rb'))\n",
    "had_hashs =  np.array(h_f['hashs'])\n",
    "had_fitness = np.array(h_f['fitness'])\n",
    "\n",
    "# get the validation times\n",
    "remains = 10000 - len(had_hashs)\n",
    "\n",
    "train_had_hashs = problem._get_hash_x(train_x)\n",
    "\n",
    "all_had_hashs = {k:True for k in had_hashs}\n",
    "all_had_hashs.update({k:True for k in train_had_hashs})\n",
    "topklen = 10000 - len(all_had_hashs)"
   ]
  },
  {
   "cell_type": "code",
   "execution_count": 30,
   "metadata": {},
   "outputs": [
    {
     "name": "stdout",
     "output_type": "stream",
     "text": [
      "base hv:  0.9347493075666335\n"
     ]
    }
   ],
   "source": [
    "print(\"base hv: \" ,benchmark.calc_perf_indicator_fitness(had_fitness, 'hv'))"
   ]
  },
  {
   "cell_type": "code",
   "execution_count": 31,
   "metadata": {},
   "outputs": [
    {
     "name": "stdout",
     "output_type": "stream",
     "text": [
      "4625 \t wait to search\n"
     ]
    }
   ],
   "source": [
    "print(topklen, '\\t wait to search')"
   ]
  },
  {
   "attachments": {},
   "cell_type": "markdown",
   "metadata": {},
   "source": [
    "## Traverse the entire search space"
   ]
  },
  {
   "cell_type": "code",
   "execution_count": 32,
   "metadata": {},
   "outputs": [],
   "source": [
    "utopian_point = benchmark.utopian_point\n",
    "nadir_point = benchmark.nadir_point\n",
    "# get the denormalized fitness\n",
    "def get_baseline_fitness(fitness):\n",
    "    return fitness * (nadir_point - utopian_point) + utopian_point"
   ]
  },
  {
   "cell_type": "code",
   "execution_count": 33,
   "metadata": {},
   "outputs": [
    {
     "data": {
      "text/plain": [
       "882570.0"
      ]
     },
     "execution_count": 33,
     "metadata": {},
     "output_type": "execute_result"
    }
   ],
   "source": [
    "x = train_x[0]\n",
    "get_pred_params_direct([x])[0]"
   ]
  },
  {
   "cell_type": "code",
   "execution_count": 34,
   "metadata": {},
   "outputs": [],
   "source": [
    "num_vertices = 7\n",
    "edge_spots_idx = np.triu_indices(num_vertices, 1)\n",
    "def get_X(matrix, ops):\n",
    "    matrix, ops = matrix.copy(), ops.copy()\n",
    "    end_idx = np.where(ops == -2)[0][0]\n",
    "    # print(end_idx)\n",
    "    if end_idx != 6:\n",
    "        matrix[:, 6] = matrix[:, end_idx]\n",
    "        matrix[:, end_idx] = 0\n",
    "    x_edge = matrix[edge_spots_idx]\n",
    "    ops[end_idx] = 0\n",
    "    fine_ops = ops[1:-1]\n",
    "    # print(fine_ops)\n",
    "    return np.concatenate((x_edge, fine_ops)).astype(int)  \n",
    "# get_X(matrix, operations[0])"
   ]
  },
  {
   "cell_type": "code",
   "execution_count": 35,
   "metadata": {},
   "outputs": [
    {
     "name": "stderr",
     "output_type": "stream",
     "text": [
      "  5%|▍         | 20001/423624 [01:49<36:42, 183.29it/s]  \n"
     ]
    }
   ],
   "source": [
    "from tqdm import tqdm\n",
    "rank_base = []\n",
    "rank_X_list = []\n",
    "rank_hashs = []\n",
    "preds = []\n",
    "for i, (matrix, ops, h) in  tqdm(enumerate(zip(adjacency, operations, hashs)), total=len(hashs)):\n",
    "    # if i > 20000: break # remove this line to search all archs\n",
    "    \n",
    "    # map matrix and ops to X\n",
    "    x = get_X(matrix, ops)\n",
    "    \n",
    "    # double check the hash\n",
    "    x_hash = problem._get_hash_x([x])[0]\n",
    "    assert x_hash == h\n",
    "    if h in all_had_hashs:\n",
    "        continue\n",
    "    \n",
    "    # only consider the archs with acc greater than 0.91\n",
    "    pred_acc = get_end_acc(x)\n",
    "    if pred_acc == None: continue\n",
    "    \n",
    "    # baseline_fitness = benchmark.evaluate([X], true_eval=True)\n",
    "    # baseline_info = get_baseline_fitness(baseline_fitness)\n",
    "\n",
    "    # print('real_acc: ', real_acc, '\\tpred_err: ', pred_acc, '\\t baseline acc', 1-baseline_info[0])\n",
    "    # print('real_param: ', real_info[1], '\\tpred_param: ', param[0])\n",
    "\n",
    "    param = get_pred_params_direct([x])[0]\n",
    "    \n",
    "    # rank scheme\n",
    "    norm_pred = benchmark.normalize(np.array([1-pred_acc, param]))\n",
    "    \n",
    "    preds.append(norm_pred)\n",
    "    rank_base.append(norm_pred.sum())\n",
    "    rank_X_list.append(x)\n",
    "    rank_hashs.append(h)"
   ]
  },
  {
   "cell_type": "code",
   "execution_count": 36,
   "metadata": {},
   "outputs": [
    {
     "data": {
      "text/plain": [
       "[array([0.27874231, 0.25864663]),\n",
       " array([0.45206984, 0.17549666]),\n",
       " array([0.42609075, 0.10875645]),\n",
       " array([0.24968335, 0.65196824]),\n",
       " array([0.31040612, 0.08854002])]"
      ]
     },
     "execution_count": 36,
     "metadata": {},
     "output_type": "execute_result"
    }
   ],
   "source": [
    "preds[:5]"
   ]
  },
  {
   "cell_type": "code",
   "execution_count": 37,
   "metadata": {},
   "outputs": [
    {
     "data": {
      "text/plain": [
       "[0.5373889458205303,\n",
       " 0.6275664949804315,\n",
       " 0.5348471992956904,\n",
       " 0.9016515863882761,\n",
       " 0.39894614519817184]"
      ]
     },
     "execution_count": 37,
     "metadata": {},
     "output_type": "execute_result"
    }
   ],
   "source": [
    "rank_base[:5]"
   ]
  },
  {
   "cell_type": "code",
   "execution_count": 38,
   "metadata": {},
   "outputs": [],
   "source": [
    "topk = sorted(zip(rank_base, rank_X_list), key=lambda x:x[0])[:topklen]"
   ]
  },
  {
   "cell_type": "code",
   "execution_count": 39,
   "metadata": {},
   "outputs": [
    {
     "name": "stdout",
     "output_type": "stream",
     "text": [
      "need_X.shape:  (9625, 26)\n"
     ]
    },
    {
     "data": {
      "text/plain": [
       "(9625, 2)"
      ]
     },
     "execution_count": 39,
     "metadata": {},
     "output_type": "execute_result"
    }
   ],
   "source": [
    "# get topk and train fitness\n",
    "topk_X = np.array([i[1] for i in topk])\n",
    "need_X = np.concatenate((train_x, topk_X))\n",
    "print('need_X.shape: ', need_X.shape)\n",
    "topk_fitness = []\n",
    "for i, X in enumerate(need_X):\n",
    "    baseline_fitness = benchmark.evaluate([X], true_eval=True)\n",
    "    baseline_info = get_baseline_fitness(baseline_fitness)[0]\n",
    "    topk_fitness.append(baseline_info)\n",
    "topk_fitness = np.array(topk_fitness)\n",
    "topk_fitness = benchmark.normalize(topk_fitness) # little redundant\n",
    "topk_fitness.shape"
   ]
  },
  {
   "cell_type": "code",
   "execution_count": 40,
   "metadata": {},
   "outputs": [
    {
     "data": {
      "text/plain": [
       "(10529, 2)"
      ]
     },
     "execution_count": 40,
     "metadata": {},
     "output_type": "execute_result"
    }
   ],
   "source": [
    "# get all fitness\n",
    "all_fitness = np.concatenate((topk_fitness, had_fitness))\n",
    "\n",
    "all_fitness.shape"
   ]
  },
  {
   "cell_type": "code",
   "execution_count": 41,
   "metadata": {},
   "outputs": [
    {
     "name": "stdout",
     "output_type": "stream",
     "text": [
      "33  front\n"
     ]
    }
   ],
   "source": [
    "from pymoo.util.nds.non_dominated_sorting import NonDominatedSorting\n",
    "nd_front = NonDominatedSorting().do(all_fitness, only_non_dominated_front=True)\n",
    "need_fitness = all_fitness[nd_front]\n",
    "print(len(nd_front), ' front')"
   ]
  },
  {
   "cell_type": "code",
   "execution_count": 42,
   "metadata": {},
   "outputs": [
    {
     "name": "stdout",
     "output_type": "stream",
     "text": [
      "HV:  0.9398536042624867 \t IGD:  0.018755044420218935\n"
     ]
    }
   ],
   "source": [
    "HV = benchmark.calc_perf_indicator_fitness(need_fitness, 'hv')\n",
    "IGD = benchmark.calc_perf_indicator_fitness(need_fitness, 'igd')\n",
    "print('HV: ', HV, '\\t IGD: ', IGD)"
   ]
  },
  {
   "cell_type": "code",
   "execution_count": 43,
   "metadata": {},
   "outputs": [
    {
     "data": {
      "text/plain": [
       "{'run': 2,\n",
       " 'HV': 0.9398536042624867,\n",
       " 'IGD': 0.018755044420218935,\n",
       " 'F': [[0.6493776322100714, 0.008828995358913965],\n",
       "  [0.868603036330904, 0.004090516084791747],\n",
       "  [0.5176349715324682, 0.020118660743567576],\n",
       "  [0.017980771426989943, 0.9677767508422528],\n",
       "  [0.7053941285420822, 0.006783737316518092],\n",
       "  [0.5888658401352987, 0.014881010057342754],\n",
       "  [0.21922540412083216, 0.035731393418999634],\n",
       "  [0.6061548060012181, 0.011295566123053378],\n",
       "  [0.532157538242217, 0.01765799071782793],\n",
       "  [0.8993774778810505, 0.0022919710205420232],\n",
       "  [0.06535299059807025, 0.12896023399222842],\n",
       "  [0.5639694823619414, 0.014933060781332299],\n",
       "  [0.283195195140817, 0.026902398060085667],\n",
       "  [0.05636239911254641, 0.19453405285073988],\n",
       "  [0.5463348194875165, 0.015612732675432058],\n",
       "  [0.40594747010492555, 0.02216391878596345],\n",
       "  [0.7410095628434974, 0.005877414954831401],\n",
       "  [0.10511761208968325, 0.0626337914790853],\n",
       "  [0.04633471660150211, 0.20000397523429037],\n",
       "  [0.03941913025513508, 0.20810152748377608],\n",
       "  [0.03250374968079616, 0.27221410611887936],\n",
       "  [0.1891423565876993, 0.037776651461395507],\n",
       "  [0.27455050643582923, 0.030992914144877412],\n",
       "  [0.274896203444336, 0.02894765610248154],\n",
       "  [0.06535278482604098, 0.1485149704838854],\n",
       "  [0.07192267416390234, 0.11995663888971707],\n",
       "  [0.16874129455710385, 0.0445603887779136],\n",
       "  [0.075725958573564, 0.08586108543772299],\n",
       "  [0.032503338136738794, 0.3363266847539827],\n",
       "  [0.31708152708361154, 0.02420917682835932],\n",
       "  [0.06535299059807025, 0.12896023399222842],\n",
       "  [0.1331260660277167, 0.05380479612017133],\n",
       "  [0.10753810846531761, 0.06058853343668943]]}"
      ]
     },
     "execution_count": 43,
     "metadata": {},
     "output_type": "execute_result"
    }
   ],
   "source": [
    "import json\n",
    "class NumpyEncoder(json.JSONEncoder):\n",
    "    def default(self, obj):\n",
    "        if isinstance(obj, np.ndarray):\n",
    "            return obj.tolist()\n",
    "        return json.JSONEncoder.default(self, obj)\n",
    "run_stats = {'run': args.run}\n",
    "run_stats['HV'] = HV\n",
    "run_stats['IGD'] = IGD\n",
    "run_stats['F'] = need_fitness.tolist()\n",
    "d = './'\n",
    "with open(d + 'res_{:02d}.json'.format(args.run), 'w') as fp:\n",
    "    json.dump(run_stats, fp, indent=4, cls=NumpyEncoder)\n",
    "run_stats"
   ]
  }
 ],
 "metadata": {
  "kernelspec": {
   "display_name": "evoxbench",
   "language": "python",
   "name": "python3"
  },
  "language_info": {
   "codemirror_mode": {
    "name": "ipython",
    "version": 3
   },
   "file_extension": ".py",
   "mimetype": "text/x-python",
   "name": "python",
   "nbconvert_exporter": "python",
   "pygments_lexer": "ipython3",
   "version": "3.8.16"
  },
  "orig_nbformat": 4
 },
 "nbformat": 4,
 "nbformat_minor": 2
}
