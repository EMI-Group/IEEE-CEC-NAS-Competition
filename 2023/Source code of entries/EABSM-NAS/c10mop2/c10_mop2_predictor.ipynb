{
 "cells": [
  {
   "attachments": {},
   "cell_type": "markdown",
   "metadata": {},
   "source": [
    "# Import libraries"
   ]
  },
  {
   "cell_type": "code",
   "execution_count": 1,
   "metadata": {},
   "outputs": [
    {
     "name": "stdout",
     "output_type": "stream",
     "text": [
      "Auto Configuration Succeed!, Using database /home/wcx/gitProject/evoxbench/database/database.\n",
      "Auto Configuration Succeed!, Using database /home/wcx/gitProject/evoxbench/database/database.\n",
      "['/home/wcx/gitProject/evoxbench/evoxbench_submit', '/sdb_new/gitProject/evoxbench/evoxbench_submit/c10mop2', '/home/wcx/anaconda3/envs/evoxbench/lib/python38.zip', '/home/wcx/anaconda3/envs/evoxbench/lib/python3.8', '/home/wcx/anaconda3/envs/evoxbench/lib/python3.8/lib-dynload', '', '/home/wcx/.local/lib/python3.8/site-packages', '/home/wcx/anaconda3/envs/evoxbench/lib/python3.8/site-packages', '/home/wcx/gitProject/evoxbench/database/database', '/home/wcx/gitProject/evoxbench/database/database']\n"
     ]
    }
   ],
   "source": [
    "import os\n",
    "os.chdir('/home/wcx/gitProject/evoxbench/evoxbench_submit/c10mop2')\n",
    "\n",
    "import pickle\n",
    "import random\n",
    "import numpy as np\n",
    "import pandas as pd\n",
    "from easydict import EasyDict as edict\n",
    "from benchmark_c10_mop2 import C10MOPProblem, c10mop"
   ]
  },
  {
   "cell_type": "code",
   "execution_count": 2,
   "metadata": {},
   "outputs": [],
   "source": [
    "pid = 2\n",
    "args = edict()\n",
    "args.checkpoint = True\n",
    "args.seed = 2023\n",
    "args.run = 1\n",
    "# set seed\n",
    "random.seed(args.seed)\n",
    "np.random.seed(args.seed)"
   ]
  },
  {
   "cell_type": "code",
   "execution_count": 3,
   "metadata": {},
   "outputs": [],
   "source": [
    "benchmark = c10mop(pid)\n",
    "problem = C10MOPProblem(benchmark)"
   ]
  },
  {
   "attachments": {},
   "cell_type": "markdown",
   "metadata": {},
   "source": [
    "# Divide the dataset"
   ]
  },
  {
   "cell_type": "code",
   "execution_count": 4,
   "metadata": {},
   "outputs": [],
   "source": [
    "d = './'\n",
    "obj_d = d + 'train_data_50000.pkl'\n",
    "search_space = benchmark.search_space\n",
    "evaluator = benchmark.evaluator\n",
    "if not os.path.exists(obj_d):\n",
    "    archs = np.array(search_space.sample(50000))\n",
    "    X = search_space.encode(archs)\n",
    "    fine_idx = problem._get_fine_x(X)\n",
    "    X, archs = X[fine_idx], archs[fine_idx]\n",
    "    y = evaluator.evaluate(archs, true_eval=True)\n",
    "    pickle.dump((X, y), open(obj_d, 'wb')) \n",
    "    whole_x, whole_y = X.copy(), y.copy()\n",
    "else:\n",
    "    X, y = pickle.load(open(obj_d, 'rb'))\n",
    "    whole_x, whole_y = X.copy(), y.copy()"
   ]
  },
  {
   "cell_type": "code",
   "execution_count": 5,
   "metadata": {},
   "outputs": [
    {
     "data": {
      "text/plain": [
       "6760"
      ]
     },
     "execution_count": 5,
     "metadata": {},
     "output_type": "execute_result"
    }
   ],
   "source": [
    "len(X)"
   ]
  },
  {
   "cell_type": "code",
   "execution_count": 6,
   "metadata": {},
   "outputs": [
    {
     "data": {
      "text/plain": [
       "<AxesSubplot: ylabel='Count'>"
      ]
     },
     "execution_count": 6,
     "metadata": {},
     "output_type": "execute_result"
    },
    {
     "data": {
      "image/png": "[encoded data removed]",
      "text/plain": [
       "<Figure size 640x480 with 1 Axes>"
      ]
     },
     "metadata": {},
     "output_type": "display_data"
    }
   ],
   "source": [
    "import seaborn as sns\n",
    "sns.histplot([i['err'] for i in y])"
   ]
  },
  {
   "attachments": {},
   "cell_type": "markdown",
   "metadata": {},
   "source": [
    "# train the dataset using 2000 archs"
   ]
  },
  {
   "cell_type": "code",
   "execution_count": 7,
   "metadata": {},
   "outputs": [],
   "source": [
    "def aux(train_x, train_y):\n",
    "    import numpy as np\n",
    "    from sklearn.model_selection import KFold\n",
    "    from sklearn.metrics import mean_absolute_error, mean_squared_error\n",
    "    from catboost import CatBoostRegressor, Pool\n",
    "    \n",
    "    kfold = KFold(n_splits=5, shuffle=True, random_state=2023)\n",
    "\n",
    "    models, errs = [], []\n",
    "    X, y = train_x, train_y\n",
    "    for train_idx, test_idx in kfold.split(X, y):\n",
    "        model = CatBoostRegressor(iterations=10000, learning_rate=0.1, depth=6, random_seed=2023,\n",
    "                                loss_function='RMSE', verbose=True, early_stopping_rounds=1000)\n",
    "        X_train, X_test = X[train_idx], X[test_idx]\n",
    "        y_train, y_test = y[train_idx], y[test_idx]\n",
    "        model.fit(X_train, y_train, eval_set=Pool(X_test, y_test), use_best_model=True, verbose=500)\n",
    "        \n",
    "        y_pred = model.predict(X_test)\n",
    "        models.append(model)\n",
    "        \n",
    "        err = mean_squared_error(y_test, y_pred)\n",
    "        errs.append(err)\n",
    "\n",
    "    return models, errs"
   ]
  },
  {
   "cell_type": "code",
   "execution_count": 8,
   "metadata": {},
   "outputs": [
    {
     "name": "stdout",
     "output_type": "stream",
     "text": [
      "train data shape:  (2000, 26) \n",
      "test data shape:  (4760, 26)\n",
      "0:\tlearn: 0.0332762\ttest: 0.0306977\tbest: 0.0306977 (0)\ttotal: 51ms\tremaining: 8m 29s\n",
      "500:\tlearn: 0.0053559\ttest: 0.0261385\tbest: 0.0247691 (78)\ttotal: 785ms\tremaining: 14.9s\n",
      "1000:\tlearn: 0.0015432\ttest: 0.0264978\tbest: 0.0247691 (78)\ttotal: 1.48s\tremaining: 13.3s\n",
      "Stopped by overfitting detector  (1000 iterations wait)\n",
      "\n",
      "bestTest = 0.02476912932\n",
      "bestIteration = 78\n",
      "\n",
      "Shrink model to first 79 iterations.\n",
      "0:\tlearn: 0.0328663\ttest: 0.0320023\tbest: 0.0320023 (0)\ttotal: 3.8ms\tremaining: 38s\n",
      "500:\tlearn: 0.0053162\ttest: 0.0268027\tbest: 0.0263924 (150)\ttotal: 695ms\tremaining: 13.2s\n",
      "1000:\tlearn: 0.0015498\ttest: 0.0269457\tbest: 0.0263924 (150)\ttotal: 1.38s\tremaining: 12.4s\n",
      "Stopped by overfitting detector  (1000 iterations wait)\n",
      "\n",
      "bestTest = 0.02639240755\n",
      "bestIteration = 150\n",
      "\n",
      "Shrink model to first 151 iterations.\n",
      "0:\tlearn: 0.0327472\ttest: 0.0332730\tbest: 0.0332730 (0)\ttotal: 3.77ms\tremaining: 37.7s\n",
      "500:\tlearn: 0.0053352\ttest: 0.0278296\tbest: 0.0269385 (96)\ttotal: 709ms\tremaining: 13.4s\n",
      "1000:\tlearn: 0.0015254\ttest: 0.0281526\tbest: 0.0269385 (96)\ttotal: 1.43s\tremaining: 12.8s\n",
      "Stopped by overfitting detector  (1000 iterations wait)\n",
      "\n",
      "bestTest = 0.02693850634\n",
      "bestIteration = 96\n",
      "\n",
      "Shrink model to first 97 iterations.\n",
      "0:\tlearn: 0.0322031\ttest: 0.0347024\tbest: 0.0347024 (0)\ttotal: 3.97ms\tremaining: 39.7s\n",
      "500:\tlearn: 0.0049518\ttest: 0.0299517\tbest: 0.0288607 (64)\ttotal: 696ms\tremaining: 13.2s\n",
      "1000:\tlearn: 0.0013940\ttest: 0.0300927\tbest: 0.0288607 (64)\ttotal: 1.39s\tremaining: 12.5s\n",
      "Stopped by overfitting detector  (1000 iterations wait)\n",
      "\n",
      "bestTest = 0.02886074062\n",
      "bestIteration = 64\n",
      "\n",
      "Shrink model to first 65 iterations.\n",
      "0:\tlearn: 0.0325542\ttest: 0.0332923\tbest: 0.0332923 (0)\ttotal: 2.4ms\tremaining: 24s\n",
      "500:\tlearn: 0.0051583\ttest: 0.0275270\tbest: 0.0271068 (222)\ttotal: 690ms\tremaining: 13.1s\n",
      "1000:\tlearn: 0.0014656\ttest: 0.0278403\tbest: 0.0271068 (222)\ttotal: 1.39s\tremaining: 12.5s\n",
      "Stopped by overfitting detector  (1000 iterations wait)\n",
      "\n",
      "bestTest = 0.02710684182\n",
      "bestIteration = 222\n",
      "\n",
      "Shrink model to first 223 iterations.\n"
     ]
    }
   ],
   "source": [
    "train_len = 2000\n",
    "train_x, train_y = X[:train_len], y[:train_len]\n",
    "test_x, test_y = X[train_len:], y[train_len:]\n",
    "print('train data shape: ', train_x.shape, '\\ntest data shape: ', test_x.shape)\n",
    "\n",
    "trn_x = train_x\n",
    "trn_y = np.array([i['err'] for i in train_y])\n",
    "tst_x = test_x\n",
    "tst_y = np.array([i['err'] for i in test_y])\n",
    "err_models, mse_errs = aux(trn_x, trn_y)"
   ]
  },
  {
   "cell_type": "code",
   "execution_count": 9,
   "metadata": {},
   "outputs": [
    {
     "name": "stdout",
     "output_type": "stream",
     "text": [
      "mse_err:  0.0014071625450391009 \n",
      "mae_err:  0.013426754309299857\n"
     ]
    }
   ],
   "source": [
    "from sklearn.metrics import mean_absolute_error, mean_squared_error\n",
    "pred_y_list = []\n",
    "for model in err_models:\n",
    "    pred_y = model.predict(test_x)\n",
    "    pred_y_list.append(pred_y)\n",
    "pred_y = np.array(pred_y_list).mean(axis=0)\n",
    "mse_err = mean_squared_error(tst_y, pred_y)\n",
    "mae_err = mean_absolute_error(tst_y, pred_y)\n",
    "print('mse_err: ', mse_err, '\\nmae_err: ', mae_err)"
   ]
  },
  {
   "cell_type": "code",
   "execution_count": 10,
   "metadata": {},
   "outputs": [
    {
     "data": {
      "text/plain": [
       "(0.0, 35.0)"
      ]
     },
     "execution_count": 10,
     "metadata": {},
     "output_type": "execute_result"
    },
    {
     "data": {
      "image/png": "[encoded data removed]",
      "text/plain": [
       "<Figure size 640x480 with 1 Axes>"
      ]
     },
     "metadata": {},
     "output_type": "display_data"
    }
   ],
   "source": [
    "import seaborn as sns\n",
    "import pandas as pd\n",
    "import matplotlib.pyplot as plt\n",
    "\n",
    "comp = pd.DataFrame({'pred': pred_y, 'true': tst_y})\n",
    "plt.scatter(comp['pred']*100, comp['true']*100)\n",
    "plt.xlim(0, 35)\n",
    "plt.ylim(0, 35)"
   ]
  },
  {
   "cell_type": "code",
   "execution_count": 11,
   "metadata": {},
   "outputs": [],
   "source": [
    "def get_pred_err(X):\n",
    "    pred_y_list = []\n",
    "    for model in err_models:\n",
    "        pred_y = model.predict(X)\n",
    "        pred_y_list.append(pred_y)\n",
    "    return np.array(pred_y_list).mean(axis=0)"
   ]
  },
  {
   "cell_type": "code",
   "execution_count": 12,
   "metadata": {},
   "outputs": [
    {
     "data": {
      "text/plain": [
       "array([0.11263227, 0.0921772 , 0.06784404, 0.08877802, 0.11495947,\n",
       "       0.09814204, 0.07489601, 0.1138504 , 0.09017071, 0.07096976])"
      ]
     },
     "execution_count": 12,
     "metadata": {},
     "output_type": "execute_result"
    }
   ],
   "source": [
    "get_pred_err(test_x[:10])"
   ]
  },
  {
   "attachments": {},
   "cell_type": "markdown",
   "metadata": {},
   "source": [
    "# Get the params and flops\n",
    "\n",
    "In fact, in neural architecture search problems, the number of parameters and flops is not an expensive task and can be obtained directly."
   ]
  },
  {
   "cell_type": "code",
   "execution_count": 13,
   "metadata": {},
   "outputs": [],
   "source": [
    "utopian = benchmark.utopian_point\n",
    "nadir = benchmark.nadir_point\n",
    "def get_pred_params_direct(X):\n",
    "    return benchmark.evaluate(X)[:, 1]* (nadir[1] - utopian[1]) + utopian[1]\n",
    "def get_pred_flops_direct(X):\n",
    "    return benchmark.evaluate(X)[:, 2]* (nadir[2] - utopian[2]) + utopian[2]"
   ]
  },
  {
   "cell_type": "code",
   "execution_count": 14,
   "metadata": {},
   "outputs": [
    {
     "data": {
      "text/plain": [
       "(array([ 1290895.,  5793546.,  8992394.,  5039754.,  3468426.,  4426762.,\n",
       "         8118666.,  2277770., 12088970.,  5532810.]),\n",
       " array([4.05775690e+08, 1.71398964e+09, 2.65914983e+09, 1.51025460e+09,\n",
       "        1.03416833e+09, 1.31697255e+09, 2.39346689e+09, 6.99312138e+08,\n",
       "        3.57096859e+09, 1.63814811e+09]))"
      ]
     },
     "execution_count": 14,
     "metadata": {},
     "output_type": "execute_result"
    }
   ],
   "source": [
    "get_pred_params_direct(test_x[:10]), get_pred_flops_direct(test_x[:10])"
   ]
  },
  {
   "attachments": {},
   "cell_type": "markdown",
   "metadata": {},
   "source": [
    "# A binary classifier to filter good architectures"
   ]
  },
  {
   "cell_type": "code",
   "execution_count": 15,
   "metadata": {},
   "outputs": [
    {
     "name": "stdout",
     "output_type": "stream",
     "text": [
      "train data shape:  (2000, 26) \n",
      "test data shape:  (4760, 26)\n"
     ]
    }
   ],
   "source": [
    "train_x, train_y = X[:train_len], y[:train_len]\n",
    "test_x, test_y = X[train_len:], y[train_len:]\n",
    "print('train data shape: ', train_x.shape, '\\ntest data shape: ', test_x.shape)\n",
    "\n",
    "trn_x = train_x\n",
    "trn_y = np.array([i['err'] for i in train_y])\n",
    "trn_y = np.array([1 if i <= 0.09 else 0 for i in trn_y])\n",
    "tst_x = test_x\n",
    "tst_y = np.array([i['err'] for i in test_y])\n",
    "tst_y = np.array([1 if i <=0.09 else 0 for i in tst_y])"
   ]
  },
  {
   "cell_type": "code",
   "execution_count": 16,
   "metadata": {},
   "outputs": [],
   "source": [
    "def aux(train_x, train_y):\n",
    "    import numpy as np\n",
    "    from sklearn.model_selection import KFold\n",
    "    from sklearn.metrics import mean_absolute_error, mean_squared_error\n",
    "    from catboost import CatBoostRegressor, Pool, CatBoostClassifier\n",
    "    \n",
    "    kfold = KFold(n_splits=5, shuffle=True, random_state=2023)\n",
    "\n",
    "    models, accs = [], []\n",
    "    X, y = train_x, train_y\n",
    "    for train_idx, test_idx in kfold.split(X, y):\n",
    "        model = CatBoostClassifier(iterations=10000, learning_rate=0.1, depth=6, random_seed=2023,\n",
    "                                    early_stopping_rounds=500, loss_function='Logloss')\n",
    "        X_train, X_test = X[train_idx], X[test_idx]\n",
    "        y_train, y_test = y[train_idx], y[test_idx]\n",
    "        model.fit(X_train, y_train, eval_set=Pool(X_test, y_test), use_best_model=True, verbose=500)\n",
    "        \n",
    "        y_pred = model.predict(X_test)\n",
    "        models.append(model)\n",
    "        accs.append((y_pred == y_test).mean())\n",
    "\n",
    "    return models, accs"
   ]
  },
  {
   "cell_type": "code",
   "execution_count": 17,
   "metadata": {},
   "outputs": [
    {
     "name": "stdout",
     "output_type": "stream",
     "text": [
      "0:\tlearn: 0.6365725\ttest: 0.6391618\tbest: 0.6391618 (0)\ttotal: 4.06ms\tremaining: 40.6s\n",
      "500:\tlearn: 0.0079404\ttest: 0.3678919\tbest: 0.3304213 (173)\ttotal: 1.03s\tremaining: 19.5s\n",
      "Stopped by overfitting detector  (500 iterations wait)\n",
      "\n",
      "bestTest = 0.330421301\n",
      "bestIteration = 173\n",
      "\n",
      "Shrink model to first 174 iterations.\n",
      "0:\tlearn: 0.6472388\ttest: 0.6498111\tbest: 0.6498111 (0)\ttotal: 3.86ms\tremaining: 38.6s\n",
      "500:\tlearn: 0.0080669\ttest: 0.3485663\tbest: 0.3108664 (223)\ttotal: 1.03s\tremaining: 19.6s\n",
      "Stopped by overfitting detector  (500 iterations wait)\n",
      "\n",
      "bestTest = 0.3108663527\n",
      "bestIteration = 223\n",
      "\n",
      "Shrink model to first 224 iterations.\n",
      "0:\tlearn: 0.6407582\ttest: 0.6439322\tbest: 0.6439322 (0)\ttotal: 3.22ms\tremaining: 32.2s\n",
      "500:\tlearn: 0.0079888\ttest: 0.3435697\tbest: 0.3029046 (175)\ttotal: 1.02s\tremaining: 19.3s\n",
      "Stopped by overfitting detector  (500 iterations wait)\n",
      "\n",
      "bestTest = 0.3029045997\n",
      "bestIteration = 175\n",
      "\n",
      "Shrink model to first 176 iterations.\n",
      "0:\tlearn: 0.6479306\ttest: 0.6501286\tbest: 0.6501286 (0)\ttotal: 3.93ms\tremaining: 39.3s\n",
      "500:\tlearn: 0.0079460\ttest: 0.3264278\tbest: 0.3019373 (234)\ttotal: 1.05s\tremaining: 19.9s\n",
      "Stopped by overfitting detector  (500 iterations wait)\n",
      "\n",
      "bestTest = 0.3019373325\n",
      "bestIteration = 234\n",
      "\n",
      "Shrink model to first 235 iterations.\n",
      "0:\tlearn: 0.6360302\ttest: 0.6390776\tbest: 0.6390776 (0)\ttotal: 3.65ms\tremaining: 36.5s\n",
      "500:\tlearn: 0.0079186\ttest: 0.3613177\tbest: 0.3315243 (202)\ttotal: 1.03s\tremaining: 19.5s\n",
      "Stopped by overfitting detector  (500 iterations wait)\n",
      "\n",
      "bestTest = 0.3315242852\n",
      "bestIteration = 202\n",
      "\n",
      "Shrink model to first 203 iterations.\n"
     ]
    }
   ],
   "source": [
    "pd_91_models, accs = aux(trn_x, trn_y)"
   ]
  },
  {
   "cell_type": "code",
   "execution_count": 18,
   "metadata": {},
   "outputs": [
    {
     "data": {
      "text/plain": [
       "[0.8475, 0.8725, 0.865, 0.8675, 0.8425]"
      ]
     },
     "execution_count": 18,
     "metadata": {},
     "output_type": "execute_result"
    }
   ],
   "source": [
    "accs"
   ]
  },
  {
   "cell_type": "code",
   "execution_count": 19,
   "metadata": {},
   "outputs": [],
   "source": [
    "def pd_X_more_than_91(X):\n",
    "    pred_y_list = []\n",
    "    for model in pd_91_models:\n",
    "        pred_y = model.predict(X)\n",
    "        pred_y_list.append(pred_y)\n",
    "    return np.around(np.array(pred_y_list).mean(axis=0))"
   ]
  },
  {
   "cell_type": "code",
   "execution_count": 20,
   "metadata": {},
   "outputs": [
    {
     "data": {
      "text/plain": [
       "array([0., 1., 0., ..., 0., 0., 0.])"
      ]
     },
     "execution_count": 20,
     "metadata": {},
     "output_type": "execute_result"
    }
   ],
   "source": [
    "pd_X_more_than_91(X)"
   ]
  },
  {
   "cell_type": "code",
   "execution_count": 21,
   "metadata": {},
   "outputs": [],
   "source": [
    "import pickle\n",
    "pickle.dump(pd_91_models, open('pd_91_models_2000.pkl', 'wb'))\n",
    "pickle.dump(err_models, open('err_models_2000.pkl', 'wb'))"
   ]
  },
  {
   "attachments": {},
   "cell_type": "markdown",
   "metadata": {},
   "source": [
    "# Combine models to predict the performance"
   ]
  },
  {
   "cell_type": "code",
   "execution_count": 22,
   "metadata": {},
   "outputs": [],
   "source": [
    "pd_X = pd_X_more_than_91(test_x)\n",
    "filter_x = test_x[pd_X == 1]\n",
    "filter_y = np.array(test_y)[pd_X == 1]\n",
    "y_err = np.array([i['err'] for i in filter_y])"
   ]
  },
  {
   "cell_type": "code",
   "execution_count": 23,
   "metadata": {},
   "outputs": [
    {
     "name": "stdout",
     "output_type": "stream",
     "text": [
      "mse_err:  0.00020154272618570933 \n",
      "mae_err:  0.009293154894283435\n"
     ]
    }
   ],
   "source": [
    "pred_y = get_pred_err(filter_x)\n",
    "mse_err = mean_squared_error(y_err, pred_y)\n",
    "mae_err = mean_absolute_error(y_err, pred_y)\n",
    "print('mse_err: ', mse_err, '\\nmae_err: ', mae_err)"
   ]
  },
  {
   "cell_type": "code",
   "execution_count": 24,
   "metadata": {},
   "outputs": [],
   "source": [
    "def get_end_acc(X):\n",
    "    pd = pd_X_more_than_91(X)\n",
    "    if pd == 1:\n",
    "        return 1-get_pred_err(X)\n",
    "    else:\n",
    "        return None"
   ]
  },
  {
   "cell_type": "code",
   "execution_count": 25,
   "metadata": {},
   "outputs": [
    {
     "data": {
      "text/plain": [
       "0.9138316721452948"
      ]
     },
     "execution_count": 25,
     "metadata": {},
     "output_type": "execute_result"
    }
   ],
   "source": [
    "get_end_acc(X[10])"
   ]
  }
 ],
 "metadata": {
  "kernelspec": {
   "display_name": "evoxbench",
   "language": "python",
   "name": "python3"
  },
  "language_info": {
   "codemirror_mode": {
    "name": "ipython",
    "version": 3
   },
   "file_extension": ".py",
   "mimetype": "text/x-python",
   "name": "python",
   "nbconvert_exporter": "python",
   "pygments_lexer": "ipython3",
   "version": "3.8.16"
  },
  "orig_nbformat": 4
 },
 "nbformat": 4,
 "nbformat_minor": 2
}
