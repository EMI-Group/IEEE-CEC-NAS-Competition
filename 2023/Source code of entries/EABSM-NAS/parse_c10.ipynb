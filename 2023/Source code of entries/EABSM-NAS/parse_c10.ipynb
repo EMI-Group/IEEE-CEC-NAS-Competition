{
 "cells": [
  {
   "cell_type": "code",
   "execution_count": 16,
   "metadata": {},
   "outputs": [
    {
     "name": "stdout",
     "output_type": "stream",
     "text": [
      "['/home/wcx/gitProject/evoxbench/evoxbench_submit/c10mop3-7/results/c10mop7.json']\n"
     ]
    }
   ],
   "source": [
    "import glob\n",
    "\n",
    "# files = sorted(glob.glob('c10*.json'), reverse=False)\n",
    "files = ['/home/wcx/gitProject/evoxbench/evoxbench_submit/c10mop2/results.json']\n",
    "print(files)"
   ]
  },
  {
   "cell_type": "code",
   "execution_count": 17,
   "metadata": {},
   "outputs": [
    {
     "name": "stdout",
     "output_type": "stream",
     "text": [
      "task pid = 00 \n",
      "runs = [1, 2, 3, 4, 5, 6, 7, 8, 9, 10, 11, 12, 13, 14, 15, 16, 17, 18, 19, 20, 21, 22, 23, 24, 25, 26, 27, 28, 29, 30, 31] \n",
      "HVs = [0.566536385847494, 0.5813543182325845, 0.5877091526988032, 0.5826146980662954, 0.5743794589592188, 0.5801728409298359, 0.5440368273022465, 0.5621700558775486, 0.5786634630152834, 0.5744622441200242, 0.5714487157961687, 0.5777826761226985, 0.5576264587849672, 0.5704919325680227, 0.5491464267775243, 0.5906403406800188, 0.5758006313810073, 0.5691701254210566, 0.5707338855691673, 0.5608022844107414, 0.5788562551452513, 0.577430137705663, 0.5656312658077285, 0.5723832841953819, 0.5786982575089502, 0.5808327463998266, 0.5335372283045292, 0.5728348660378546, 0.5704151155562306, 0.5753191939457284, 0.5815366498683172]\n",
      "avg HV =  0.5713941265495538  standard deviation =  0.012119520937191292\n",
      "avg IGD =  0.04257761710328057  standard deviation =  0.003482852980783412\n"
     ]
    }
   ],
   "source": [
    "import json\n",
    "import numpy as np\n",
    "for pid, file in enumerate(files):\n",
    "    data_runs = json.load(open(file, 'r'))\n",
    "    print(f'task pid = {pid:02d} ')\n",
    "    runs = []\n",
    "    HVs = []\n",
    "    IGDs = []\n",
    "    for data_run in data_runs:\n",
    "        runs.append(data_run['run'])\n",
    "        HVs.append(data_run['HV'])\n",
    "        IGDs.append(data_run['IGD'])\n",
    "    print(f'runs = {runs} \\nHVs = {HVs}')\n",
    "    print('avg HV = ', sum(HVs)/len(HVs), ' standard deviation = ', np.std(HVs))\n",
    "    print('avg IGD = ', sum(IGDs)/len(IGDs), ' standard deviation = ', np.std(IGDs))\n"
   ]
  }
 ],
 "metadata": {
  "kernelspec": {
   "display_name": "evoxbench",
   "language": "python",
   "name": "python3"
  },
  "language_info": {
   "codemirror_mode": {
    "name": "ipython",
    "version": 3
   },
   "file_extension": ".py",
   "mimetype": "text/x-python",
   "name": "python",
   "nbconvert_exporter": "python",
   "pygments_lexer": "ipython3",
   "version": "3.8.16"
  },
  "orig_nbformat": 4
 },
 "nbformat": 4,
 "nbformat_minor": 2
}
